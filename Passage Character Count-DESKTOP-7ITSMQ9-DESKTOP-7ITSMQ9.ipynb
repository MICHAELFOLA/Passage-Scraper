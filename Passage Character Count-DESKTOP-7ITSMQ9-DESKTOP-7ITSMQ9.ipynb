{
 "cells": [
  {
   "cell_type": "code",
   "execution_count": 37,
   "metadata": {},
   "outputs": [],
   "source": [
    "from webbot import Browser\n",
    "import time\n",
    "import pandas as DataFrame\n",
    "from bs4 import BeautifulSoup as soup\n",
    "import csv\n",
    "import pandas as pd"
   ]
  },
  {
   "cell_type": "code",
   "execution_count": 1,
   "metadata": {
    "scrolled": true
   },
   "outputs": [],
   "source": [
    "from webbot import Browser\n",
    "import time\n",
    "import pandas as DataFrame\n",
    "from bs4 import BeautifulSoup as soup\n",
    "import csv\n",
    "import pandas as pd\n",
    "import string\n",
    "\n",
    "def crawler(website):\n",
    "    web = Browser()\n",
    "    web.go_to(website)\n",
    "    web.click(\"Log In\")\n",
    "    web.type('xroydacute@yahoo.com', into='Email')\n",
    "    web.click('NEXT', tag='span')\n",
    "    web.type('python', into='Password', id='passwordFieldId')\n",
    "    web.click('NEXT', tag='span')\n",
    "    web.click(\"Log In\")\n",
    "    web.click(\"Close\")\n",
    "    web.click(heading)\n",
    "    time.sleep(10)\n",
    "    web.click(subheading)\n",
    "\n",
    "    time.sleep(10)\n",
    "\n",
    "    url = web.get_page_source()\n",
    "    return url\n",
    "\n",
    "website = 'readworks.org'\n",
    "heading = \"11-12\"\n",
    "subheading =  \"Centuries of Peace\"\n",
    "\n",
    "url = crawler(website)\n",
    "soup = soup(url, 'html.parser')\n",
    "\n",
    "\n",
    "def stringDivisor():\n",
    "    passagescraped = soup.find('div', class_='vocab-popup-content-wrapper vocab-popup-enabled')\n",
    "    list = []\n",
    "    p = passagescraped.find_all('p')\n",
    "    for x in p:\n",
    "        list.append(x.getText())\n",
    "    listToStr = ' '.join([str(elem) for elem in list]) \n",
    "    words = listToStr.split()\n",
    "    subs = []\n",
    "    n = 436\n",
    "    for i in range(0, len(words), n):\n",
    "        subs.append(\" \".join(words[i:i+n]))\n",
    "    return subs\n",
    "\n",
    "def dataFrame(lst):\n",
    "    columnsuffix = string.ascii_uppercase\n",
    "    df = pd.DataFrame(lst, index=[f'Passage {j}' for _, j in list(zip(lst, columnsuffix))]).T  #for Passage (alphabet)\n",
    "    # df = pd.DataFrame(lst, index=[f'Passage {j}' for _, j in list(zip(lst, len(lst)))]).T  # for Passage (number)\n",
    "    return df\n",
    "\n",
    "\n",
    "lst = stringDivisor()\n",
    "data = dataFrame(lst)"
   ]
  },
  {
   "cell_type": "code",
   "execution_count": null,
   "metadata": {},
   "outputs": [],
   "source": [
    "lst = stringDivisor()\n",
    "data = dataFrame(lst)"
   ]
  },
  {
   "cell_type": "code",
   "execution_count": 120,
   "metadata": {},
   "outputs": [
    {
     "data": {
      "text/plain": [
       "(1, 3)"
      ]
     },
     "execution_count": 120,
     "metadata": {},
     "output_type": "execute_result"
    }
   ],
   "source": [
    "import numpy as np\n",
    "temp = np.array([lst]).reshape((1, 3))\n",
    "temp.shape"
   ]
  },
  {
   "cell_type": "code",
   "execution_count": null,
   "metadata": {},
   "outputs": [],
   "source": [
    "url = crawler(website)\n",
    "soup = soup(url, 'html.parser')"
   ]
  },
  {
   "cell_type": "code",
   "execution_count": null,
   "metadata": {},
   "outputs": [],
   "source": [
    "lst = stringDivisor()\n",
    "data = dataFrame(lst)"
   ]
  },
  {
   "cell_type": "code",
   "execution_count": 123,
   "metadata": {},
   "outputs": [],
   "source": []
  },
  {
   "cell_type": "code",
   "execution_count": 2,
   "metadata": {},
   "outputs": [
    {
     "data": {
      "text/html": [
       "<div>\n",
       "<style scoped>\n",
       "    .dataframe tbody tr th:only-of-type {\n",
       "        vertical-align: middle;\n",
       "    }\n",
       "\n",
       "    .dataframe tbody tr th {\n",
       "        vertical-align: top;\n",
       "    }\n",
       "\n",
       "    .dataframe thead th {\n",
       "        text-align: right;\n",
       "    }\n",
       "</style>\n",
       "<table border=\"1\" class=\"dataframe\">\n",
       "  <thead>\n",
       "    <tr style=\"text-align: right;\">\n",
       "      <th></th>\n",
       "      <th>Passage A</th>\n",
       "      <th>Passage B</th>\n",
       "      <th>Passage C</th>\n",
       "    </tr>\n",
       "  </thead>\n",
       "  <tbody>\n",
       "    <tr>\n",
       "      <th>0</th>\n",
       "      <td>Given the regular outbreaks of religious and p...</td>\n",
       "      <td>was clearer and easier to understand than prev...</td>\n",
       "      <td>rebuild churches that had been destroyed durin...</td>\n",
       "    </tr>\n",
       "  </tbody>\n",
       "</table>\n",
       "</div>"
      ],
      "text/plain": [
       "                                           Passage A  \\\n",
       "0  Given the regular outbreaks of religious and p...   \n",
       "\n",
       "                                           Passage B  \\\n",
       "0  was clearer and easier to understand than prev...   \n",
       "\n",
       "                                           Passage C  \n",
       "0  rebuild churches that had been destroyed durin...  "
      ]
     },
     "execution_count": 2,
     "metadata": {},
     "output_type": "execute_result"
    }
   ],
   "source": [
    "data.head()"
   ]
  },
  {
   "cell_type": "code",
   "execution_count": 73,
   "metadata": {},
   "outputs": [
    {
     "data": {
      "text/plain": [
       "Index(['Passage 0', 'Passage 1'], dtype='object')"
      ]
     },
     "execution_count": 73,
     "metadata": {},
     "output_type": "execute_result"
    }
   ],
   "source": [
    "data.columns"
   ]
  },
  {
   "cell_type": "code",
   "execution_count": null,
   "metadata": {},
   "outputs": [],
   "source": []
  },
  {
   "cell_type": "code",
   "execution_count": null,
   "metadata": {},
   "outputs": [],
   "source": []
  },
  {
   "cell_type": "code",
   "execution_count": 125,
   "metadata": {},
   "outputs": [
    {
     "data": {
      "text/html": [
       "<div>\n",
       "<style scoped>\n",
       "    .dataframe tbody tr th:only-of-type {\n",
       "        vertical-align: middle;\n",
       "    }\n",
       "\n",
       "    .dataframe tbody tr th {\n",
       "        vertical-align: top;\n",
       "    }\n",
       "\n",
       "    .dataframe thead th {\n",
       "        text-align: right;\n",
       "    }\n",
       "</style>\n",
       "<table border=\"1\" class=\"dataframe\">\n",
       "  <thead>\n",
       "    <tr style=\"text-align: right;\">\n",
       "      <th></th>\n",
       "      <th>Passage A</th>\n",
       "      <th>Passage B</th>\n",
       "      <th>Passage C</th>\n",
       "    </tr>\n",
       "  </thead>\n",
       "  <tbody>\n",
       "    <tr>\n",
       "      <th>0</th>\n",
       "      <td>Given the regular outbreaks of religious and p...</td>\n",
       "      <td>was clearer and easier to understand than prev...</td>\n",
       "      <td>rebuild churches that had been destroyed durin...</td>\n",
       "    </tr>\n",
       "  </tbody>\n",
       "</table>\n",
       "</div>"
      ],
      "text/plain": [
       "                                           Passage A  \\\n",
       "0  Given the regular outbreaks of religious and p...   \n",
       "\n",
       "                                           Passage B  \\\n",
       "0  was clearer and easier to understand than prev...   \n",
       "\n",
       "                                           Passage C  \n",
       "0  rebuild churches that had been destroyed durin...  "
      ]
     },
     "execution_count": 125,
     "metadata": {},
     "output_type": "execute_result"
    }
   ],
   "source": [
    "data.head()"
   ]
  },
  {
   "cell_type": "code",
   "execution_count": 3,
   "metadata": {},
   "outputs": [],
   "source": [
    "resultP = 'passages.csv'\n",
    "data.to_csv(resultP, encoding='utf-8-sig',index=True, header=True)"
   ]
  },
  {
   "cell_type": "code",
   "execution_count": 4,
   "metadata": {},
   "outputs": [
    {
     "data": {
      "text/plain": [
       "'passages.csv'"
      ]
     },
     "execution_count": 4,
     "metadata": {},
     "output_type": "execute_result"
    }
   ],
   "source": [
    "resultP"
   ]
  },
  {
   "cell_type": "code",
   "execution_count": 41,
   "metadata": {},
   "outputs": [],
   "source": []
  },
  {
   "cell_type": "code",
   "execution_count": null,
   "metadata": {},
   "outputs": [],
   "source": []
  },
  {
   "cell_type": "code",
   "execution_count": null,
   "metadata": {},
   "outputs": [],
   "source": []
  },
  {
   "cell_type": "code",
   "execution_count": null,
   "metadata": {},
   "outputs": [],
   "source": []
  },
  {
   "cell_type": "code",
   "execution_count": 8,
   "metadata": {},
   "outputs": [
    {
     "data": {
      "text/html": [
       "<div>\n",
       "<style scoped>\n",
       "    .dataframe tbody tr th:only-of-type {\n",
       "        vertical-align: middle;\n",
       "    }\n",
       "\n",
       "    .dataframe tbody tr th {\n",
       "        vertical-align: top;\n",
       "    }\n",
       "\n",
       "    .dataframe thead th {\n",
       "        text-align: right;\n",
       "    }\n",
       "</style>\n",
       "<table border=\"1\" class=\"dataframe\">\n",
       "  <thead>\n",
       "    <tr style=\"text-align: right;\">\n",
       "      <th></th>\n",
       "      <th>0</th>\n",
       "      <th>1</th>\n",
       "    </tr>\n",
       "  </thead>\n",
       "  <tbody>\n",
       "    <tr>\n",
       "      <th>Passage</th>\n",
       "      <td>In the summer of 1995, a bakery opened in Mont...</td>\n",
       "      <td>let anybody bake,” said Shlafman firmly. “No o...</td>\n",
       "    </tr>\n",
       "  </tbody>\n",
       "</table>\n",
       "</div>"
      ],
      "text/plain": [
       "                                                         0  \\\n",
       "Passage  In the summer of 1995, a bakery opened in Mont...   \n",
       "\n",
       "                                                         1  \n",
       "Passage  let anybody bake,” said Shlafman firmly. “No o...  "
      ]
     },
     "execution_count": 8,
     "metadata": {},
     "output_type": "execute_result"
    }
   ],
   "source": [
    "from webbot import Browser\n",
    "import time\n",
    "import pandas as DataFrame\n",
    "from bs4 import BeautifulSoup as soup\n",
    "import csv\n",
    "import pandas as pd\n",
    "import string\n",
    "\n",
    "def crawler(website):\n",
    "    web = Browser()\n",
    "    web.go_to(website)\n",
    "    web.click(\"Log In\")\n",
    "    web.type('xroydacute@yahoo.com', into='Email')\n",
    "    web.click('NEXT', tag='span')\n",
    "    web.type('python', into='Password', id='passwordFieldId')\n",
    "    web.click('NEXT', tag='span')\n",
    "    web.click(\"Log In\")\n",
    "    web.click(\"Close\")\n",
    "    web.click(heading)\n",
    "    time.sleep(5)\n",
    "    web.click(subheading)\n",
    "\n",
    "    time.sleep(10)\n",
    "\n",
    "    url = web.get_page_source()\n",
    "    return url\n",
    "\n",
    "website = 'readworks.org'\n",
    "heading = \"11-12\"\n",
    "subheading =  \"Centuries of Peace\"\n",
    "\n",
    "url = crawler(website)\n",
    "soup = soup(url, 'html.parser')\n",
    "\n",
    "def stringDivisor():\n",
    "    passagescraped = soup.find('div', class_='vocab-popup-content-wrapper vocab-popup-enabled')\n",
    "    list = []\n",
    "    p_s = passagescraped.find_all('p')\n",
    "    for x in p_s:\n",
    "        list.append(x.getText())\n",
    "    listToStr = ' '.join([str(elem) for elem in list]) \n",
    "    words = listToStr.split()\n",
    "    subs = []\n",
    "    n = 436\n",
    "    for i in range(0, len(words), n):\n",
    "        subs.append(\" \".join(words[i:i+n]))\n",
    "    return subs\n",
    "\n",
    "def dataFrame(lst):\n",
    "    df = pd.DataFrame(lst, index= True, columns=[f'Passage {i}' for i, _ in enumerate(string.ascii_uppercase, data.columns)]).T\n",
    "    return df\n",
    "\n",
    "\n",
    "\n",
    "\n",
    "lst = stringDivisor()\n",
    "data = dataFrame(lst)"
   ]
  },
  {
   "cell_type": "code",
   "execution_count": null,
   "metadata": {},
   "outputs": [],
   "source": [
    "try:\n",
    "    cases_df.to_csv(cases_file, index=True, header=True)\n",
    "except (PermissionError, FileExistsError) as e:\n",
    "    print(f'{cases_file} already exists')"
   ]
  },
  {
   "cell_type": "code",
   "execution_count": 4,
   "metadata": {},
   "outputs": [
    {
     "name": "stdout",
     "output_type": "stream",
     "text": [
      "Collecting spacy\n",
      "  Downloading spacy-3.0.5-cp37-cp37m-win_amd64.whl (11.6 MB)\n",
      "Requirement already satisfied: setuptools in c:\\users\\folar\\anaconda3\\lib\\site-packages (from spacy) (45.2.0.post20200210)\n",
      "Collecting typer<0.4.0,>=0.3.0\n",
      "  Downloading typer-0.3.2-py3-none-any.whl (21 kB)\n",
      "Collecting cymem<2.1.0,>=2.0.2\n",
      "  Downloading cymem-2.0.5-cp37-cp37m-win_amd64.whl (35 kB)\n",
      "Requirement already satisfied: requests<3.0.0,>=2.13.0 in c:\\users\\folar\\anaconda3\\lib\\site-packages (from spacy) (2.22.0)\n",
      "Collecting pathy>=0.3.5\n",
      "  Downloading pathy-0.4.0-py3-none-any.whl (36 kB)\n",
      "Requirement already satisfied: packaging>=20.0 in c:\\users\\folar\\anaconda3\\lib\\site-packages (from spacy) (20.1)\n",
      "Collecting wasabi<1.1.0,>=0.8.1\n",
      "  Downloading wasabi-0.8.2-py3-none-any.whl (23 kB)\n",
      "Requirement already satisfied: tqdm<5.0.0,>=4.38.0 in c:\\users\\folar\\anaconda3\\lib\\site-packages (from spacy) (4.42.1)\n",
      "Collecting thinc<8.1.0,>=8.0.2\n",
      "  Downloading thinc-8.0.2-cp37-cp37m-win_amd64.whl (1.0 MB)\n",
      "Collecting srsly<3.0.0,>=2.4.0\n",
      "  Downloading srsly-2.4.0-cp37-cp37m-win_amd64.whl (449 kB)\n",
      "Requirement already satisfied: numpy>=1.15.0 in c:\\users\\folar\\anaconda3\\lib\\site-packages (from spacy) (1.18.1)\n",
      "Collecting preshed<3.1.0,>=3.0.2\n",
      "  Downloading preshed-3.0.5-cp37-cp37m-win_amd64.whl (108 kB)\n",
      "Collecting murmurhash<1.1.0,>=0.28.0\n",
      "  Downloading murmurhash-1.0.5-cp37-cp37m-win_amd64.whl (20 kB)\n",
      "Collecting typing-extensions<4.0.0.0,>=3.7.4; python_version < \"3.8\"\n",
      "  Downloading typing_extensions-3.7.4.3-py3-none-any.whl (22 kB)\n",
      "Requirement already satisfied: importlib-metadata>=0.20; python_version < \"3.8\" in c:\\users\\folar\\anaconda3\\lib\\site-packages (from spacy) (1.5.0)\n",
      "Collecting catalogue<2.1.0,>=2.0.1\n",
      "  Downloading catalogue-2.0.1-py3-none-any.whl (9.6 kB)\n",
      "Collecting blis<0.8.0,>=0.4.0\n",
      "  Downloading blis-0.7.4-cp37-cp37m-win_amd64.whl (6.5 MB)\n",
      "Collecting pydantic<1.8.0,>=1.7.1\n",
      "  Downloading pydantic-1.7.3-cp37-cp37m-win_amd64.whl (1.7 MB)\n",
      "Collecting spacy-legacy<3.1.0,>=3.0.0\n",
      "  Downloading spacy_legacy-3.0.1-py2.py3-none-any.whl (7.0 kB)\n",
      "Requirement already satisfied: jinja2 in c:\\users\\folar\\anaconda3\\lib\\site-packages (from spacy) (2.11.1)\n",
      "Collecting click<7.2.0,>=7.1.1\n",
      "  Downloading click-7.1.2-py2.py3-none-any.whl (82 kB)\n",
      "Requirement already satisfied: certifi>=2017.4.17 in c:\\users\\folar\\anaconda3\\lib\\site-packages (from requests<3.0.0,>=2.13.0->spacy) (2019.11.28)\n",
      "Requirement already satisfied: chardet<3.1.0,>=3.0.2 in c:\\users\\folar\\anaconda3\\lib\\site-packages (from requests<3.0.0,>=2.13.0->spacy) (3.0.4)\n",
      "Requirement already satisfied: idna<2.9,>=2.5 in c:\\users\\folar\\anaconda3\\lib\\site-packages (from requests<3.0.0,>=2.13.0->spacy) (2.8)\n",
      "Requirement already satisfied: urllib3!=1.25.0,!=1.25.1,<1.26,>=1.21.1 in c:\\users\\folar\\anaconda3\\lib\\site-packages (from requests<3.0.0,>=2.13.0->spacy) (1.25.8)\n",
      "Collecting smart-open<4.0.0,>=2.2.0\n",
      "  Downloading smart_open-3.0.0.tar.gz (113 kB)\n",
      "Requirement already satisfied: pyparsing>=2.0.2 in c:\\users\\folar\\anaconda3\\lib\\site-packages (from packaging>=20.0->spacy) (2.4.6)\n",
      "Requirement already satisfied: six in c:\\users\\folar\\anaconda3\\lib\\site-packages (from packaging>=20.0->spacy) (1.14.0)\n",
      "Requirement already satisfied: zipp>=0.5 in c:\\users\\folar\\anaconda3\\lib\\site-packages (from importlib-metadata>=0.20; python_version < \"3.8\"->spacy) (2.2.0)\n",
      "Requirement already satisfied: MarkupSafe>=0.23 in c:\\users\\folar\\anaconda3\\lib\\site-packages (from jinja2->spacy) (1.1.1)\n",
      "Building wheels for collected packages: smart-open\n",
      "  Building wheel for smart-open (setup.py): started\n",
      "  Building wheel for smart-open (setup.py): finished with status 'done'\n",
      "  Created wheel for smart-open: filename=smart_open-3.0.0-py3-none-any.whl size=107102 sha256=7fc5ebe4d9a5c48daa05b206f2b532e92480da5d85530ef1fb943acbc9b248e9\n",
      "  Stored in directory: c:\\users\\folar\\appdata\\local\\pip\\cache\\wheels\\83\\a6\\12\\bf3c1a667bde4251be5b7a3368b2d604c9af2105b5c1cb1870\n",
      "Successfully built smart-open\n",
      "Installing collected packages: click, typer, cymem, smart-open, pathy, wasabi, catalogue, srsly, typing-extensions, blis, murmurhash, preshed, pydantic, thinc, spacy-legacy, spacy\n",
      "  Attempting uninstall: click\n",
      "    Found existing installation: Click 7.0\n",
      "    Uninstalling Click-7.0:\n",
      "      Successfully uninstalled Click-7.0\n",
      "Successfully installed blis-0.7.4 catalogue-2.0.1 click-7.1.2 cymem-2.0.5 murmurhash-1.0.5 pathy-0.4.0 preshed-3.0.5 pydantic-1.7.3 smart-open-3.0.0 spacy-3.0.5 spacy-legacy-3.0.1 srsly-2.4.0 thinc-8.0.2 typer-0.3.2 typing-extensions-3.7.4.3 wasabi-0.8.2\n"
     ]
    },
    {
     "name": "stderr",
     "output_type": "stream",
     "text": [
      "WARNING: Retrying (Retry(total=4, connect=None, read=None, redirect=None, status=None)) after connection broken by 'ReadTimeoutError(\"HTTPSConnectionPool(host='pypi.org', port=443): Read timed out. (read timeout=15)\")': /simple/pathy/\n"
     ]
    }
   ],
   "source": [
    "!pip install spacy"
   ]
  },
  {
   "cell_type": "code",
   "execution_count": null,
   "metadata": {},
   "outputs": [],
   "source": []
  }
 ],
 "metadata": {
  "kernelspec": {
   "display_name": "Python 3",
   "language": "python",
   "name": "python3"
  },
  "language_info": {
   "codemirror_mode": {
    "name": "ipython",
    "version": 3
   },
   "file_extension": ".py",
   "mimetype": "text/x-python",
   "name": "python",
   "nbconvert_exporter": "python",
   "pygments_lexer": "ipython3",
   "version": "3.7.6"
  }
 },
 "nbformat": 4,
 "nbformat_minor": 4
}
